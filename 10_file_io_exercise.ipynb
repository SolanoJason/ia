{
 "cells": [
  {
   "cell_type": "code",
   "execution_count": 45,
   "metadata": {},
   "outputs": [],
   "source": [
    "import re\n",
    "import string\n",
    "\n",
    "from pathlib import Path\n",
    "\n",
    "# Constants for the exercises:\n",
    "WORKING_DIR = Path.cwd()\n",
    "DATA_DIR = WORKING_DIR / \"data\""
   ]
  },
  {
   "cell_type": "markdown",
   "metadata": {},
   "source": [
    "# 1. Sumar los numeros listados en un archivo de texto\n",
    "La función `sum_numbers_in_file` toma la ruta del archivo de entrada como argumento, lee los números enumerados en el archivo de entrada y devuelve la suma de esos números. Puede suponer que cada línea contiene exactamente un valor numérico."
   ]
  },
  {
   "cell_type": "code",
   "execution_count": 27,
   "metadata": {},
   "outputs": [],
   "source": [
    "def sum_numbers_in_file(input_file):\n",
    "    # Escribe tu codigo aqui\n",
    "    pass"
   ]
  },
  {
   "cell_type": "markdown",
   "metadata": {
    "tags": []
   },
   "source": [
    "Test con el archivo **numbers.txt**"
   ]
  },
  {
   "cell_type": "code",
   "execution_count": 47,
   "metadata": {
    "editable": false
   },
   "outputs": [],
   "source": [
    "in_file = DATA_DIR / \"numbers.txt\"\n",
    "assert sum_numbers_in_file(in_file) == 189.5"
   ]
  },
  {
   "cell_type": "markdown",
   "metadata": {
    "tags": []
   },
   "source": [
    "# 2. Lectura de la primera palabra de cada línea de un archivo\n",
    "Implemente la función `find_first_words` que toma una ruta del archivo de entrada como argumento. La función debe encontrar la primera palabra de cada línea en el archivo y devolver estas palabras como una lista. Si una línea está vacía, la lista devuelta debe contener una cadena vacía para esa línea."
   ]
  },
  {
   "cell_type": "code",
   "execution_count": 36,
   "metadata": {},
   "outputs": [],
   "source": [
    "def find_first_words(input_file):\n",
    "    # Tu implementacion aqui\n",
    "    pass"
   ]
  },
  {
   "cell_type": "markdown",
   "metadata": {},
   "source": [
    "Tests con los archivos **simple_file.txt** y **simple_file_with_empty_lines.txt**"
   ]
  },
  {
   "cell_type": "code",
   "execution_count": null,
   "metadata": {},
   "outputs": [],
   "source": [
    "in_file1 = DATA_DIR / \"simple_file.txt\"\n",
    "in_file2 = DATA_DIR / \"simple_file_with_empty_lines.txt\"\n",
    "\n",
    "expected_file_1 = [\"First\", \"Second\", \"Third\", \"And\"]\n",
    "assert find_first_words(in_file1) == expected_file_1\n",
    "\n",
    "expected_file_2 = [\"The\", \"\", \"First\", \"nonsense\", \"\", \"Then\"]\n",
    "assert find_first_words(in_file2) == expected_file_2"
   ]
  },
  {
   "cell_type": "markdown",
   "metadata": {},
   "source": [
    "# 3. Bolsa de palabras\n"
   ]
  },
  {
   "cell_type": "markdown",
   "metadata": {},
   "source": [
    "La bolsa de palabras, también conocida como \"bag of words\", es un método ampliamente utilizado en procesamiento de lenguaje natural para representar texto mediante la frecuencia de aparición de las palabras en un documento.\n",
    "\n",
    "Implemente la funcion `bag_of_words` que toma una ruta del archivo de entrada como argumento y retorna un diccionario con la bolsa de palabras. No se deben de considerar los signos de puntuacion, no se debe distinguir entre mayusculas y minusculas."
   ]
  },
  {
   "cell_type": "code",
   "execution_count": 65,
   "metadata": {},
   "outputs": [],
   "source": [
    "def bag_of_words(input_file):\n",
    "    pass"
   ]
  },
  {
   "cell_type": "markdown",
   "metadata": {},
   "source": [
    "**Your output**"
   ]
  },
  {
   "cell_type": "code",
   "execution_count": 66,
   "metadata": {},
   "outputs": [
    {
     "name": "stdout",
     "output_type": "stream",
     "text": [
      "None\n"
     ]
    }
   ],
   "source": [
    "in_file = DATA_DIR / \"bag_of_words.txt\"\n",
    "print(bag_of_words(in_file))"
   ]
  },
  {
   "cell_type": "markdown",
   "metadata": {},
   "source": [
    "**Expected Output**"
   ]
  },
  {
   "cell_type": "markdown",
   "metadata": {},
   "source": [
    "{'el': 14,\n",
    " 'aprendizaje': 6,\n",
    " 'por': 5,\n",
    " 'refuerzo': 5,\n",
    " 'es': 2,\n",
    " 'una': 4,\n",
    " 'rama': 1,\n",
    " 'del': 6,\n",
    " 'automã¡tico': 1,\n",
    " 'que': 5,\n",
    " 'se': 4,\n",
    " 'enfoca': 1,\n",
    " 'en': 9,\n",
    " 'enseã±ar': 1,\n",
    " 'a': 7,\n",
    " 'las': 2,\n",
    " 'mã¡quinas': 1,\n",
    " 'tomar': 4,\n",
    " 'decisiones': 4,\n",
    " 'basadas': 1,\n",
    " 'recompensas': 2,\n",
    " 'y': 8,\n",
    " 'castigos': 2,\n",
    " 'lugar': 1,\n",
    " 'de': 19,\n",
    " 'proporcionar': 1,\n",
    " 'un': 6,\n",
    " 'conjunto': 1,\n",
    " 'ejemplos': 1,\n",
    " 'entrenamiento': 1,\n",
    " 'etiquetados': 1,\n",
    " 'permite': 1,\n",
    " 'agente': 6,\n",
    " 'aprenda': 1,\n",
    " 'mediante': 1,\n",
    " 'la': 11,\n",
    " 'interacciã³n': 2,\n",
    " 'con': 3,\n",
    " 'entorno': 4,\n",
    " 'dinã¡mico': 1,\n",
    " 'este': 1,\n",
    " 'enfoque': 1,\n",
    " 'aprende': 2,\n",
    " 'travã©s': 2,\n",
    " 'prueba': 1,\n",
    " 'error': 1,\n",
    " 'tomando': 1,\n",
    " 'acciones': 1,\n",
    " 'recibiendo': 1,\n",
    " 'o': 2,\n",
    " 'segãºn': 1,\n",
    " 'su': 2,\n",
    " 'desempeã±o': 1,\n",
    " 'objetivo': 1,\n",
    " 'maximizar': 1,\n",
    " 'recompensa': 2,\n",
    " 'acumulada': 1,\n",
    " 'lo': 1,\n",
    " 'largo': 1,\n",
    " 'tiempo': 1,\n",
    " 'medida': 1,\n",
    " 'interactãºa': 1,\n",
    " 'utiliza': 1,\n",
    " 'informaciã³n': 3,\n",
    " 'sobre': 1,\n",
    " 'estado': 4,\n",
    " 'actual': 4,\n",
    " 'recibida': 1,\n",
    " 'para': 6,\n",
    " 'ajustar': 1,\n",
    " 'comportamiento': 1,\n",
    " 'ã³ptimas': 2,\n",
    " 'bolsa': 3,\n",
    " 'palabras': 5,\n",
    " 'puede': 5,\n",
    " 'aplicar': 1,\n",
    " 'al': 2,\n",
    " 'representar': 2,\n",
    " 'contextual': 1,\n",
    " 'relevante': 2,\n",
    " 'cada': 1,\n",
    " 'palabra': 1,\n",
    " 'texto': 2,\n",
    " 'considerarse': 1,\n",
    " 'como': 2,\n",
    " 'caracterã\\xadstica': 1,\n",
    " 'frecuencia': 1,\n",
    " 'apariciã³n': 1,\n",
    " 'ser': 2,\n",
    " 'utilizada': 1,\n",
    " 'crear': 1,\n",
    " 'vector': 1,\n",
    " 'caracterã\\xadsticas': 3,\n",
    " 'represente': 1,\n",
    " 'estas': 1,\n",
    " 'utilizan': 1,\n",
    " 'entonces': 1,\n",
    " 'entrenar': 1,\n",
    " 'modelo': 1,\n",
    " 'basado': 1,\n",
    " 'redes': 1,\n",
    " 'neuronales': 1,\n",
    " 'funciã³n': 1,\n",
    " 'representaciã³n': 1,\n",
    " 'esta': 1,\n",
    " 'manera': 2,\n",
    " 'herramienta': 1,\n",
    " 'ãºtil': 1,\n",
    " 'capturar': 1,\n",
    " 'utilizarla': 1,\n",
    " 'proceso': 1,\n",
    " 'forma': 1,\n",
    " 'mejorar': 1,\n",
    " 'capacidad': 1,\n",
    " 'informadas': 1,\n",
    " 'aprender': 1,\n",
    " 'mã¡s': 1,\n",
    " 'efectiva': 1}"
   ]
  },
  {
   "cell_type": "markdown",
   "metadata": {},
   "source": [
    "# 4. Bolsa de palabras mejorada"
   ]
  },
  {
   "cell_type": "markdown",
   "metadata": {},
   "source": [
    "Implemente la funcion `bag_of_words_2`, pero considerando:\n",
    "\n",
    "**Eliminación de palabras comunes**: no considere las palabras en la lista `stop_words` dado que estas palabras son muy comunes y por ende no aportan mucho significado.\n",
    "\n",
    "**2-gramas**: En lugar de considerar solo palabras individuales, puedes ampliar la bolsa de palabras para incluir 2-gramas, que son secuencias de 2 palabras consecutivas. Por ejemplo, en lugar de considerar solo \"perro\" como una palabra, también puedes incluir \"perro grande\" como un 2-grama. Esto puede capturar mejor la estructura y el contexto del texto.\n",
    "\n",
    "**Ponderación de términos**: En lugar de contar simplemente la frecuencia de aparición de las palabras, asignaremos un peso a cada palabra segun que su frecuencia de aparicion, todos los pesos deben de sumar a 1."
   ]
  },
  {
   "cell_type": "code",
   "execution_count": null,
   "metadata": {},
   "outputs": [],
   "source": [
    "stop_words = [\n",
    "    \"el\", \"la\", \"los\", \"las\", \"un\", \"una\", \"unos\", \"unas\", \"y\", \"o\",\n",
    "    \"pero\", \"si\", \"no\", \"por\", \"para\", \"con\", \"de\", \"a\", \"al\", \"del\",\n",
    "    \"se\", \"es\", \"son\", \"fue\", \"han\", \"tiene\", \"tener\", \"hacer\", \"hacerlo\",\n",
    "    \"sobre\", \"entre\", \"durante\", \"desde\", \"hasta\", \"también\", \"así\",\n",
    "    \"como\", \"además\", \"entonces\", \"luego\"\n",
    "]"
   ]
  },
  {
   "cell_type": "code",
   "execution_count": 53,
   "metadata": {},
   "outputs": [],
   "source": [
    "def bag_of_words_2(input_file):\n",
    "    pass"
   ]
  },
  {
   "cell_type": "markdown",
   "metadata": {},
   "source": [
    "**Your output**"
   ]
  },
  {
   "cell_type": "code",
   "execution_count": 68,
   "metadata": {},
   "outputs": [
    {
     "name": "stdout",
     "output_type": "stream",
     "text": [
      "None\n"
     ]
    }
   ],
   "source": [
    "in_file = DATA_DIR / \"bag_of_words.txt\"\n",
    "print(bag_of_words_2(in_file))"
   ]
  },
  {
   "cell_type": "markdown",
   "metadata": {},
   "source": [
    "**Expected Output**"
   ]
  },
  {
   "cell_type": "markdown",
   "metadata": {
    "tags": []
   },
   "source": [
    "{('aprendizaje', 'refuerzo'): 0.030120481927710843,\n",
    " ('refuerzo', 'rama'): 0.006024096385542169,\n",
    " ('rama', 'aprendizaje'): 0.006024096385542169,\n",
    " ('aprendizaje', 'automãtico'): 0.006024096385542169,\n",
    " ('automãtico', 'que'): 0.006024096385542169,\n",
    " ('que', 'enfoca'): 0.006024096385542169,\n",
    " ('enfoca', 'en'): 0.006024096385542169,\n",
    " ('en', 'enseãar'): 0.006024096385542169,\n",
    " ('enseãar', 'mãquinas'): 0.006024096385542169,\n",
    " ('mãquinas', 'tomar'): 0.006024096385542169,\n",
    " ('tomar', 'decisiones'): 0.024096385542168676,\n",
    " ('decisiones', 'basadas'): 0.006024096385542169,\n",
    " ('basadas', 'en'): 0.006024096385542169,\n",
    " ('en', 'recompensas'): 0.006024096385542169,\n",
    " ('recompensas', 'castigos'): 0.012048192771084338,\n",
    " ('castigos', 'en'): 0.006024096385542169,\n",
    " ('en', 'lugar'): 0.006024096385542169,\n",
    " ('lugar', 'proporcionar'): 0.006024096385542169,\n",
    " ('proporcionar', 'conjunto'): 0.006024096385542169,\n",
    " ('conjunto', 'ejemplos'): 0.006024096385542169,\n",
    " ('ejemplos', 'entrenamiento'): 0.006024096385542169,\n",
    " ('entrenamiento', 'etiquetados'): 0.006024096385542169,\n",
    " ('etiquetados', 'aprendizaje'): 0.006024096385542169,\n",
    " ('refuerzo', 'permite'): 0.006024096385542169,\n",
    " ('permite', 'que'): 0.006024096385542169,\n",
    " ('que', 'agente'): 0.012048192771084338,\n",
    " ('agente', 'aprenda'): 0.006024096385542169,\n",
    " ('aprenda', 'mediante'): 0.006024096385542169,\n",
    " ('mediante', 'interacciã³n'): 0.006024096385542169,\n",
    " ('interacciã³n', 'entorno'): 0.012048192771084338,\n",
    " ('entorno', 'dinãmico'): 0.006024096385542169,\n",
    " ('dinãmico', 'en'): 0.006024096385542169,\n",
    " ('en', 'este'): 0.006024096385542169,\n",
    " ('este', 'enfoque'): 0.006024096385542169,\n",
    " ('enfoque', 'agente'): 0.006024096385542169,\n",
    " ('agente', 'aprende'): 0.006024096385542169,\n",
    " ('aprende', 'travãs'): 0.006024096385542169,\n",
    " ('travãs', 'prueba'): 0.006024096385542169,\n",
    " ('prueba', 'error'): 0.006024096385542169,\n",
    " ('error', 'tomando'): 0.006024096385542169,\n",
    " ('tomando', 'acciones'): 0.006024096385542169,\n",
    " ('acciones', 'recibiendo'): 0.006024096385542169,\n",
    " ('recibiendo', 'recompensas'): 0.006024096385542169,\n",
    " ('castigos', 'segãºn'): 0.006024096385542169,\n",
    " ('segãºn', 'su'): 0.006024096385542169,\n",
    " ('su', 'desempeão'): 0.006024096385542169,\n",
    " ('desempeão', 'objetivo'): 0.006024096385542169,\n",
    " ('objetivo', 'agente'): 0.006024096385542169,\n",
    " ('agente', 'maximizar'): 0.006024096385542169,\n",
    " ('maximizar', 'recompensa'): 0.006024096385542169,\n",
    " ('recompensa', 'acumulada'): 0.006024096385542169,\n",
    " ('acumulada', 'lo'): 0.006024096385542169,\n",
    " ('lo', 'largo'): 0.006024096385542169,\n",
    " ('largo', 'tiempo'): 0.006024096385542169,\n",
    " ('tiempo', 'medida'): 0.006024096385542169,\n",
    " ('medida', 'que'): 0.006024096385542169,\n",
    " ('agente', 'interactãºa'): 0.006024096385542169,\n",
    " ('interactãºa', 'entorno'): 0.006024096385542169,\n",
    " ('entorno', 'utiliza'): 0.006024096385542169,\n",
    " ('utiliza', 'informaciã³n'): 0.006024096385542169,\n",
    " ('informaciã³n', 'estado'): 0.006024096385542169,\n",
    " ('estado', 'actual'): 0.024096385542168676,\n",
    " ('actual', 'recompensa'): 0.006024096385542169,\n",
    " ('recompensa', 'recibida'): 0.006024096385542169,\n",
    " ('recibida', 'ajustar'): 0.006024096385542169,\n",
    " ('ajustar', 'su'): 0.006024096385542169,\n",
    " ('su', 'comportamiento'): 0.006024096385542169,\n",
    " ('comportamiento', 'tomar'): 0.006024096385542169,\n",
    " ('decisiones', 'ã³ptimas'): 0.012048192771084338,\n",
    " ('ã³ptimas', 'bolsa'): 0.006024096385542169,\n",
    " ('bolsa', 'palabras'): 0.018072289156626505,\n",
    " ('palabras', 'puede'): 0.024096385542168676,\n",
    " ('puede', 'aplicar'): 0.006024096385542169,\n",
    " ('aplicar', 'aprendizaje'): 0.006024096385542169,\n",
    " ('refuerzo', 'representar'): 0.012048192771084338,\n",
    " ('representar', 'estado'): 0.012048192771084338,\n",
    " ('actual', 'entorno'): 0.006024096385542169,\n",
    " ('entorno', 'informaciã³n'): 0.006024096385542169,\n",
    " ('informaciã³n', 'contextual'): 0.006024096385542169,\n",
    " ('contextual', 'relevante'): 0.006024096385542169,\n",
    " ('relevante', 'cada'): 0.006024096385542169,\n",
    " ('cada', 'palabra'): 0.006024096385542169,\n",
    " ('palabra', 'en'): 0.006024096385542169,\n",
    " ('en', 'texto'): 0.006024096385542169,\n",
    " ('texto', 'puede'): 0.006024096385542169,\n",
    " ('puede', 'considerarse'): 0.006024096385542169,\n",
    " ('considerarse', 'caracterãstica'): 0.006024096385542169,\n",
    " ('caracterãstica', 'frecuencia'): 0.006024096385542169,\n",
    " ('frecuencia', 'apariciã³n'): 0.006024096385542169,\n",
    " ('apariciã³n', 'palabras'): 0.006024096385542169,\n",
    " ('puede', 'ser'): 0.012048192771084338,\n",
    " ('ser', 'utilizada'): 0.006024096385542169,\n",
    " ('utilizada', 'crear'): 0.006024096385542169,\n",
    " ('crear', 'vector'): 0.006024096385542169,\n",
    " ('vector', 'caracterãsticas'): 0.006024096385542169,\n",
    " ('caracterãsticas', 'que'): 0.006024096385542169,\n",
    " ('que', 'represente'): 0.006024096385542169,\n",
    " ('represente', 'estado'): 0.006024096385542169,\n",
    " ('actual', 'estas'): 0.006024096385542169,\n",
    " ('estas', 'caracterãsticas'): 0.006024096385542169,\n",
    " ('caracterãsticas', 'utilizan'): 0.006024096385542169,\n",
    " ('utilizan', 'entrenar'): 0.006024096385542169,\n",
    " ('entrenar', 'modelo'): 0.006024096385542169,\n",
    " ('modelo', 'aprendizaje'): 0.006024096385542169,\n",
    " ('refuerzo', 'agente'): 0.006024096385542169,\n",
    " ('agente', 'basado'): 0.006024096385542169,\n",
    " ('basado', 'en'): 0.006024096385542169,\n",
    " ('en', 'redes'): 0.006024096385542169,\n",
    " ('redes', 'neuronales'): 0.006024096385542169,\n",
    " ('neuronales', 'que'): 0.006024096385542169,\n",
    " ('que', 'aprende'): 0.006024096385542169,\n",
    " ('aprende', 'tomar'): 0.006024096385542169,\n",
    " ('ã³ptimas', 'en'): 0.006024096385542169,\n",
    " ('en', 'funciã³n'): 0.006024096385542169,\n",
    " ('funciã³n', 'representaciã³n'): 0.006024096385542169,\n",
    " ('representaciã³n', 'bolsa'): 0.006024096385542169,\n",
    " ('palabras', 'esta'): 0.006024096385542169,\n",
    " ('esta', 'manera'): 0.006024096385542169,\n",
    " ('manera', 'bolsa'): 0.006024096385542169,\n",
    " ('ser', 'herramienta'): 0.006024096385542169,\n",
    " ('herramienta', 'ãºtil'): 0.006024096385542169,\n",
    " ('ãºtil', 'capturar'): 0.006024096385542169,\n",
    " ('capturar', 'informaciã³n'): 0.006024096385542169,\n",
    " ('informaciã³n', 'relevante'): 0.006024096385542169,\n",
    " ('relevante', 'texto'): 0.006024096385542169,\n",
    " ('texto', 'utilizarla'): 0.006024096385542169,\n",
    " ('utilizarla', 'en'): 0.006024096385542169,\n",
    " ('en', 'proceso'): 0.006024096385542169,\n",
    " ('proceso', 'aprendizaje'): 0.006024096385542169,\n",
    " ('actual', 'en'): 0.006024096385542169,\n",
    " ('en', 'forma'): 0.006024096385542169,\n",
    " ('forma', 'caracterãsticas'): 0.006024096385542169,\n",
    " ('caracterãsticas', 'palabras'): 0.006024096385542169,\n",
    " ('puede', 'mejorar'): 0.006024096385542169,\n",
    " ('mejorar', 'capacidad'): 0.006024096385542169,\n",
    " ('capacidad', 'agente'): 0.006024096385542169,\n",
    " ('agente', 'tomar'): 0.006024096385542169,\n",
    " ('decisiones', 'informadas'): 0.006024096385542169,\n",
    " ('informadas', 'aprender'): 0.006024096385542169,\n",
    " ('aprender', 'manera'): 0.006024096385542169,\n",
    " ('manera', 'mãs'): 0.006024096385542169,\n",
    " ('mãs', 'efectiva'): 0.006024096385542169,\n",
    " ('efectiva', 'travãs'): 0.006024096385542169,\n",
    " ('travãs', 'interacciã³n'): 0.006024096385542169}"
   ]
  }
 ],
 "metadata": {
  "celltoolbar": "Edit Metadata",
  "kernelspec": {
   "display_name": "Python 3 (ipykernel)",
   "language": "python",
   "name": "python3"
  },
  "language_info": {
   "codemirror_mode": {
    "name": "ipython",
    "version": 3
   },
   "file_extension": ".py",
   "mimetype": "text/x-python",
   "name": "python",
   "nbconvert_exporter": "python",
   "pygments_lexer": "ipython3",
   "version": "3.9.7"
  }
 },
 "nbformat": 4,
 "nbformat_minor": 4
}
